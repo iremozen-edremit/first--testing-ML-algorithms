{
 "cells": [
  {
   "cell_type": "code",
   "execution_count": 3,
   "metadata": {},
   "outputs": [],
   "source": [
    "import pandas as pd\n",
    "import numpy as np\n",
    "\n",
    "from pylab import rcParams\n",
    "import seaborn as sb\n",
    "import matplotlib.pyplot as plt\n",
    "\n",
    "import sklearn\n",
    "from sklearn.cluster import DBSCAN\n",
    "from collections import Counter "
   ]
  },
  {
   "cell_type": "code",
   "execution_count": 4,
   "metadata": {},
   "outputs": [],
   "source": [
    "data = pd.read_csv('last.txt')\n",
    "data.columns =(\"a\",\"b\")"
   ]
  },
  {
   "cell_type": "code",
   "execution_count": 5,
   "metadata": {},
   "outputs": [
    {
     "data": {
      "text/plain": [
       "<matplotlib.collections.PathCollection at 0xcec2f0db70>"
      ]
     },
     "execution_count": 5,
     "metadata": {},
     "output_type": "execute_result"
    },
    {
     "data": {
      "image/png": "[encoded data removed]",
      "text/plain": [
       "<matplotlib.figure.Figure at 0xcec2e590b8>"
      ]
     },
     "metadata": {},
     "output_type": "display_data"
    }
   ],
   "source": [
    "df = data.head(10000)\n",
    "D= data.head(10000)\n",
    "f1 = D['a'].values\n",
    "f2 = D['b'].values\n",
    "X1 = np.array (list(zip(f1,f2)))\n",
    "plt.scatter(f1,f2, c= 'black' , s=7)"
   ]
  },
  {
   "cell_type": "code",
   "execution_count": 6,
   "metadata": {},
   "outputs": [
    {
     "data": {
      "text/plain": [
       "array([[2287705,      15],\n",
       "       [2287706,      19],\n",
       "       [2287707,      25],\n",
       "       ...,\n",
       "       [2297702,      29],\n",
       "       [2297703,      24],\n",
       "       [2297704,      20]], dtype=int64)"
      ]
     },
     "execution_count": 6,
     "metadata": {},
     "output_type": "execute_result"
    }
   ],
   "source": [
    "X1"
   ]
  },
  {
   "cell_type": "code",
   "execution_count": 7,
   "metadata": {},
   "outputs": [],
   "source": [
    "def MyDBSCAN(D, eps, MinPts):\n",
    "    labels = [0]*len(D)\n",
    "    C = 0\n",
    " \n",
    "    for P in range(0, len(D)):\n",
    "\n",
    "        if not (labels[P] == 0):\n",
    "            continue\n",
    "        \n",
    "        NeighborPts = regionQuery(D, P, eps)\n",
    "\n",
    "        if len(NeighborPts) < MinPts:\n",
    "            labels[P] = -1\n",
    "\n",
    "        else:\n",
    "            C += 1\n",
    "\n",
    "            labels[P] = C\n",
    "           \n",
    "            growCluster(D, labels, P, C, eps, MinPts)\n",
    "    \n",
    "    return labels\n",
    "\n",
    "\n",
    "def growCluster(D, labels, P, C, eps, MinPts):\n",
    "    \"\"\"\n",
    "    Grow a new cluster with label `C` from the seed point `P`.\n",
    "    \n",
    "    This function searches through the dataset to find all points that belong\n",
    "    to this new cluster. When this function returns, cluster `C` is complete.\n",
    "    \n",
    "    Parameters:\n",
    "      `D`      - The dataset (a list of vectors)\n",
    "      `labels` - List storing the cluster labels for all dataset points\n",
    "      `P`      - Index of the seed point for this new cluster\n",
    "      `C`      - The label for this new cluster.  \n",
    "      `eps`    - Threshold distance\n",
    "      `MinPts` - Minimum required number of neighbors\n",
    "    \"\"\"\n",
    "\n",
    "\n",
    "    SearchQueue = [P]\n",
    "\n",
    "    # For each point in the queue:\n",
    "    #   1. Determine whether it is a branch or a leaf\n",
    "    #   2. For branch points, add their unclaimed neighbors to the search queue\n",
    "    i = 0\n",
    "    while i < len(SearchQueue):    \n",
    "        \n",
    "        # Get the next point from the queue.        \n",
    "        P = SearchQueue[i]\n",
    "\n",
    "        # Find all the neighbors of P\n",
    "        NeighborPts = regionQuery(D, P, eps)\n",
    "        \n",
    "        # If the number of neighbors is below the minimum, then this is a leaf\n",
    "        # point and we move to the next point in the queue.\n",
    "        if len(NeighborPts) < MinPts:\n",
    "            i += 1\n",
    "            continue\n",
    "        \n",
    "        # Otherwise, we have the minimum number of neighbors, and this is a \n",
    "        # branch point.\n",
    "            \n",
    "        # For each of the neighbors...\n",
    "        for Pn in NeighborPts:\n",
    "           \n",
    "            # If Pn was labelled NOISE during the seed search, then we\n",
    "            # know it's not a branch point (it doesn't have enough \n",
    "            # neighbors), so make it a leaf point of cluster C and move on.\n",
    "            if labels[Pn] == -1:\n",
    "                labels[Pn] = C\n",
    "            # Otherwise, if Pn isn't already claimed, claim it as part of\n",
    "            # C and add it to the search queue.   \n",
    "            elif labels[Pn] == 0:\n",
    "                # Add Pn to cluster C.\n",
    "                labels[Pn] = C\n",
    "                \n",
    "                # Add Pn to the SearchQueue.\n",
    "                SearchQueue.append(Pn)\n",
    "            \n",
    "        # Advance to the next point in the FIFO queue.\n",
    "        i += 1        \n",
    "    \n",
    "    # We've finished growing cluster C!\n",
    "\n",
    "\n",
    "def regionQuery(D, P, eps):\n",
    "    \"\"\"\n",
    "    Find all points in dataset `D` within distance `eps` of point `P`.\n",
    "    \n",
    "    This function calculates the distance between a point P and every other \n",
    "    point in the dataset, and then returns only those points which are within a\n",
    "    threshold distance `eps`.\n",
    "    \"\"\"\n",
    "    neighbors = []\n",
    "    \n",
    "    for Pn in range(0, len(D)):\n",
    "\n",
    "        # If the distance is below the threshold, add it to the neighbors list.\n",
    "        if (np.sqrt((f1[P] - f1[Pn]) ** 2 + (f2[P] - f2[Pn]) ** 2)) < eps:\n",
    "            neighbors.append(Pn)\n",
    "\n",
    "            \n",
    "    return neighbors"
   ]
  },
  {
   "cell_type": "code",
   "execution_count": 8,
   "metadata": {},
   "outputs": [],
   "source": [
    "k = MyDBSCAN( X1 , 30 ,2 )"
   ]
  },
  {
   "cell_type": "code",
   "execution_count": 10,
   "metadata": {},
   "outputs": [
    {
     "name": "stderr",
     "output_type": "stream",
     "text": [
      "C:\\Users\\irem\\Anaconda3\\lib\\site-packages\\ipykernel_launcher.py:1: SettingWithCopyWarning: \n",
      "A value is trying to be set on a copy of a slice from a DataFrame.\n",
      "Try using .loc[row_indexer,col_indexer] = value instead\n",
      "\n",
      "See the caveats in the documentation: http://pandas.pydata.org/pandas-docs/stable/indexing.html#indexing-view-versus-copy\n",
      "  \"\"\"Entry point for launching an IPython kernel.\n"
     ]
    },
    {
     "data": {
      "text/html": [
       "<div>\n",
       "<style scoped>\n",
       "    .dataframe tbody tr th:only-of-type {\n",
       "        vertical-align: middle;\n",
       "    }\n",
       "\n",
       "    .dataframe tbody tr th {\n",
       "        vertical-align: top;\n",
       "    }\n",
       "\n",
       "    .dataframe thead th {\n",
       "        text-align: right;\n",
       "    }\n",
       "</style>\n",
       "<table border=\"1\" class=\"dataframe\">\n",
       "  <thead>\n",
       "    <tr style=\"text-align: right;\">\n",
       "      <th></th>\n",
       "      <th>a</th>\n",
       "      <th>b</th>\n",
       "      <th>k</th>\n",
       "    </tr>\n",
       "  </thead>\n",
       "  <tbody>\n",
       "    <tr>\n",
       "      <th>0</th>\n",
       "      <td>2287705</td>\n",
       "      <td>15</td>\n",
       "      <td>1</td>\n",
       "    </tr>\n",
       "    <tr>\n",
       "      <th>1</th>\n",
       "      <td>2287706</td>\n",
       "      <td>19</td>\n",
       "      <td>1</td>\n",
       "    </tr>\n",
       "    <tr>\n",
       "      <th>2</th>\n",
       "      <td>2287707</td>\n",
       "      <td>25</td>\n",
       "      <td>1</td>\n",
       "    </tr>\n",
       "    <tr>\n",
       "      <th>3</th>\n",
       "      <td>2287708</td>\n",
       "      <td>18</td>\n",
       "      <td>1</td>\n",
       "    </tr>\n",
       "    <tr>\n",
       "      <th>4</th>\n",
       "      <td>2287709</td>\n",
       "      <td>18</td>\n",
       "      <td>1</td>\n",
       "    </tr>\n",
       "  </tbody>\n",
       "</table>\n",
       "</div>"
      ],
      "text/plain": [
       "         a   b  k\n",
       "0  2287705  15  1\n",
       "1  2287706  19  1\n",
       "2  2287707  25  1\n",
       "3  2287708  18  1\n",
       "4  2287709  18  1"
      ]
     },
     "execution_count": 10,
     "metadata": {},
     "output_type": "execute_result"
    }
   ],
   "source": [
    "D['k'] = k\n",
    "D.head(5)"
   ]
  },
  {
   "cell_type": "code",
   "execution_count": 11,
   "metadata": {},
   "outputs": [
    {
     "data": {
      "text/html": [
       "<div>\n",
       "<style scoped>\n",
       "    .dataframe tbody tr th:only-of-type {\n",
       "        vertical-align: middle;\n",
       "    }\n",
       "\n",
       "    .dataframe tbody tr th {\n",
       "        vertical-align: top;\n",
       "    }\n",
       "\n",
       "    .dataframe thead th {\n",
       "        text-align: right;\n",
       "    }\n",
       "</style>\n",
       "<table border=\"1\" class=\"dataframe\">\n",
       "  <thead>\n",
       "    <tr style=\"text-align: right;\">\n",
       "      <th></th>\n",
       "      <th>a</th>\n",
       "      <th>b</th>\n",
       "      <th>k</th>\n",
       "    </tr>\n",
       "  </thead>\n",
       "  <tbody>\n",
       "    <tr>\n",
       "      <th>9119</th>\n",
       "      <td>2296824</td>\n",
       "      <td>70</td>\n",
       "      <td>-1</td>\n",
       "    </tr>\n",
       "  </tbody>\n",
       "</table>\n",
       "</div>"
      ],
      "text/plain": [
       "            a   b  k\n",
       "9119  2296824  70 -1"
      ]
     },
     "execution_count": 11,
     "metadata": {},
     "output_type": "execute_result"
    }
   ],
   "source": [
    "D[(D['b'] >= 60)]"
   ]
  },
  {
   "cell_type": "code",
   "execution_count": 12,
   "metadata": {},
   "outputs": [
    {
     "ename": "NameError",
     "evalue": "name 'c1' is not defined",
     "output_type": "error",
     "traceback": [
      "\u001b[1;31m---------------------------------------------------------------------------\u001b[0m",
      "\u001b[1;31mNameError\u001b[0m                                 Traceback (most recent call last)",
      "\u001b[1;32m<ipython-input-12-92a895be38d7>\u001b[0m in \u001b[0;36m<module>\u001b[1;34m()\u001b[0m\n\u001b[0;32m     12\u001b[0m \u001b[1;33m\u001b[0m\u001b[0m\n\u001b[0;32m     13\u001b[0m \u001b[1;33m\u001b[0m\u001b[0m\n\u001b[1;32m---> 14\u001b[1;33m \u001b[0mplt\u001b[0m\u001b[1;33m.\u001b[0m\u001b[0mlegend\u001b[0m\u001b[1;33m(\u001b[0m\u001b[1;33m[\u001b[0m\u001b[0mc1\u001b[0m\u001b[1;33m,\u001b[0m \u001b[0mc2\u001b[0m\u001b[1;33m,\u001b[0m \u001b[0mc3\u001b[0m\u001b[1;33m,\u001b[0m\u001b[0mc4\u001b[0m\u001b[1;33m,\u001b[0m\u001b[0mc5\u001b[0m\u001b[1;33m]\u001b[0m\u001b[1;33m,\u001b[0m \u001b[1;33m[\u001b[0m\u001b[1;34m'Cluster 1'\u001b[0m\u001b[1;33m,\u001b[0m \u001b[1;34m'Cluster 2'\u001b[0m\u001b[1;33m,\u001b[0m\u001b[1;34m'Cluster 3'\u001b[0m\u001b[1;33m,\u001b[0m\u001b[1;34m'Cluster 4'\u001b[0m\u001b[1;33m,\u001b[0m\u001b[1;34m'Cluster 5'\u001b[0m\u001b[1;33m]\u001b[0m\u001b[1;33m)\u001b[0m\u001b[1;33m\u001b[0m\u001b[0m\n\u001b[0m\u001b[0;32m     15\u001b[0m \u001b[0mplt\u001b[0m\u001b[1;33m.\u001b[0m\u001b[0mtitle\u001b[0m\u001b[1;33m(\u001b[0m\u001b[1;34m'DBSCAN finds 2 clusters and noise'\u001b[0m\u001b[1;33m)\u001b[0m\u001b[1;33m\u001b[0m\u001b[0m\n\u001b[0;32m     16\u001b[0m \u001b[0mplt\u001b[0m\u001b[1;33m.\u001b[0m\u001b[0mshow\u001b[0m\u001b[1;33m(\u001b[0m\u001b[1;33m)\u001b[0m\u001b[1;33m\u001b[0m\u001b[0m\n",
      "\u001b[1;31mNameError\u001b[0m: name 'c1' is not defined"
     ]
    },
    {
     "data": {
      "image/png": "[encoded data removed]",
      "text/plain": [
       "<matplotlib.figure.Figure at 0xcec33c7390>"
      ]
     },
     "metadata": {},
     "output_type": "display_data"
    }
   ],
   "source": [
    "for i in range(0, len(D)):\n",
    "    if D['k'][i] == 0:\n",
    "         c1 = plt.scatter(D['a'][i],D['b'][i],c='r',marker='+')\n",
    "    elif D['k'][i] == 1:\n",
    "         c2 = plt.scatter(D['a'][i],D['b'][i],c='g',marker='o')\n",
    "    elif D['k'][i] == -1:\n",
    "         c3 = plt.scatter(D['a'][i],D['b'][i],c='b',marker='*')\n",
    "    elif D['k'][i] == 2:\n",
    "         c4 = plt.scatter(D['a'][i],D['b'][i],c='k',marker='D')\n",
    "    elif D['k'][i] == 3:\n",
    "         c5 = plt.scatter(D['a'][i],D['b'][i],c='y',marker='s')\n",
    "            \n",
    "            \n",
    "plt.legend([c1, c2, c3,c4,c5], ['Cluster 1', 'Cluster 2','Cluster 3','Cluster 4','Cluster 5'])\n",
    "plt.title('DBSCAN finds 2 clusters and noise')\n",
    "plt.show()"
   ]
  },
  {
   "cell_type": "code",
   "execution_count": null,
   "metadata": {},
   "outputs": [],
   "source": []
  },
  {
   "cell_type": "code",
   "execution_count": null,
   "metadata": {},
   "outputs": [],
   "source": [
    "\n"
   ]
  },
  {
   "cell_type": "code",
   "execution_count": null,
   "metadata": {},
   "outputs": [],
   "source": []
  }
 ],
 "metadata": {
  "kernelspec": {
   "display_name": "Python 3",
   "language": "python",
   "name": "python3"
  },
  "language_info": {
   "codemirror_mode": {
    "name": "ipython",
    "version": 3
   },
   "file_extension": ".py",
   "mimetype": "text/x-python",
   "name": "python",
   "nbconvert_exporter": "python",
   "pygments_lexer": "ipython3",
   "version": "3.6.5"
  }
 },
 "nbformat": 4,
 "nbformat_minor": 2
}
